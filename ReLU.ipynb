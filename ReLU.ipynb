{
 "cells": [
  {
   "cell_type": "code",
   "execution_count": 4,
   "id": "38fa3c01",
   "metadata": {},
   "outputs": [
    {
     "name": "stdout",
     "output_type": "stream",
     "text": [
      "[[0.1, 0.2, 0.4], [0.4, 0.6, 0.6], [0.5, 0.9, 0.1], [0.8, 0.2, 0.8]]\n",
      "[[0.1, 0.6], [0.2, 0.1], [0.7, 0.9]]\n"
     ]
    }
   ],
   "source": [
    "import tensorflow as tf\n",
    "\n",
    "output = None\n",
    "hidden_layer_weights = [\n",
    "    [0.1, 0.2, 0.4],\n",
    "    [0.4, 0.6, 0.6],\n",
    "    [0.5, 0.9, 0.1],\n",
    "    [0.8, 0.2, 0.8]\n",
    "]\n",
    "out_weights = [\n",
    "    [0.1, 0.6],\n",
    "    [0.2, 0.1],\n",
    "    [0.7, 0.9]\n",
    "]\n",
    "print(hidden_layer_weights)\n",
    "print(out_weights)"
   ]
  },
  {
   "cell_type": "code",
   "execution_count": 19,
   "id": "292f6b6f",
   "metadata": {},
   "outputs": [
    {
     "name": "stdout",
     "output_type": "stream",
     "text": [
      "[array([[0.1, 0.2, 0.4],\n",
      "       [0.4, 0.6, 0.6],\n",
      "       [0.5, 0.9, 0.1],\n",
      "       [0.8, 0.2, 0.8]], dtype=float32), array([[0.1, 0.6],\n",
      "       [0.2, 0.1],\n",
      "       [0.7, 0.9]], dtype=float32)]\n"
     ]
    }
   ],
   "source": [
    "# Weights and biases\n",
    "weights = [\n",
    "    tf.Variable(hidden_layer_weights),\n",
    "    tf.Variable(out_weights)\n",
    "]\n",
    "biases = [\n",
    "    tf.Variable(tf.ones(3)),\n",
    "    tf.Variable(tf.zeros(2))\n",
    "]\n",
    "\n",
    "with tf.Session() as sess:\n",
    "    sess.run(tf.global_variables_initializer())\n",
    "    output = sess.run(weights)\n",
    "    print(output)\n"
   ]
  },
  {
   "cell_type": "code",
   "execution_count": 20,
   "id": "a411aa6a",
   "metadata": {},
   "outputs": [],
   "source": [
    "# Input\n",
    "features = tf.Variable([[1.0, 2.0, 3.0, 4.0], [-1.0, -2.0, -3.0, -4.0], [11.0, 12.0, 13.0, 14.0]])"
   ]
  },
  {
   "cell_type": "code",
   "execution_count": 21,
   "id": "94847f5b",
   "metadata": {},
   "outputs": [
    {
     "name": "stdout",
     "output_type": "stream",
     "text": [
      "[[ 5.6        4.8999996  5.1      ]\n",
      " [-5.6       -4.8999996 -5.1      ]\n",
      " [23.6       23.9       24.1      ]]\n",
      "[[ 6.6        5.8999996  6.1      ]\n",
      " [-4.6       -3.8999996 -4.1      ]\n",
      " [24.6       24.9       25.1      ]]\n"
     ]
    }
   ],
   "source": [
    "# Create Model\n",
    "hidden_layer = tf.add(tf.matmul(features, weights[0]), biases[0]) \n",
    "hidden_layer = tf.nn.relu(hidden_layer)\n",
    "logits = tf.add(tf.matmul(hidden_layer, weights[1]), biases[1])\n",
    "with tf.Session() as sess:\n",
    "    sess.run(tf.global_variables_initializer())\n",
    "    output = sess.run(tf.matmul(features, weights[0]))\n",
    "    output1 = sess.run(tf.add(tf.matmul(features, weights[0]), biases[0]))\n",
    "    print(output)\n",
    "    print(output1)"
   ]
  },
  {
   "cell_type": "code",
   "execution_count": 16,
   "id": "7dd91231",
   "metadata": {},
   "outputs": [
    {
     "name": "stdout",
     "output_type": "stream",
     "text": [
      "[[ 5.1099997  8.44     ]\n",
      " [ 0.         0.       ]\n",
      " [24.01      38.24     ]]\n"
     ]
    }
   ],
   "source": [
    "# Print output\n",
    "with tf.Session() as sess:\n",
    "    sess.run(tf.global_variables_initializer())\n",
    "    output = sess.run(logits)\n",
    "    print(output)"
   ]
  },
  {
   "cell_type": "code",
   "execution_count": null,
   "id": "7c71f0cd",
   "metadata": {},
   "outputs": [],
   "source": []
  }
 ],
 "metadata": {
  "kernelspec": {
   "display_name": "Python 3",
   "language": "python",
   "name": "python3"
  },
  "language_info": {
   "codemirror_mode": {
    "name": "ipython",
    "version": 3
   },
   "file_extension": ".py",
   "mimetype": "text/x-python",
   "name": "python",
   "nbconvert_exporter": "python",
   "pygments_lexer": "ipython3",
   "version": "3.7.10"
  }
 },
 "nbformat": 4,
 "nbformat_minor": 5
}
